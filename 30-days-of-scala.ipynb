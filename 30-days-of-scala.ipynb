{
  "metadata" : {
    "config" : {
      "dependencies" : {
        
      },
      "exclusions" : [
      ],
      "repositories" : [
      ],
      "env" : {
        
      }
    },
    "language_info" : {
      "name" : "scala"
    }
  },
  "nbformat" : 4,
  "nbformat_minor" : 0,
  "cells" : [
    {
      "cell_type" : "markdown",
      "execution_count" : 0,
      "metadata" : {
        "language" : "text"
      },
      "language" : "text",
      "source" : [
        "# 30 days of scala\n",
        "\n",
        "\n",
        "Day-1\n",
        "\n",
        "\n"
      ],
      "outputs" : [
      ]
    },
    {
      "cell_type" : "code",
      "execution_count" : 1,
      "metadata" : {
        "cell.metadata.exec_info" : {
          "startTs" : 1637170247365,
          "endTs" : 1637170247704
        },
        "language" : "scala"
      },
      "language" : "scala",
      "source" : [
        "println(\"Hello World in Scala\")"
      ],
      "outputs" : [
        {
          "name" : "stdout",
          "text" : [
            "Hello World in Scala\n"
          ],
          "output_type" : "stream"
        }
      ]
    }
  ]
}